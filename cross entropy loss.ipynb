{
 "cells": [
  {
   "cell_type": "markdown",
   "metadata": {},
   "source": [
    "Cross Entropy Loss"
   ]
  },
  {
   "cell_type": "code",
   "execution_count": 3,
   "metadata": {},
   "outputs": [
    {
     "name": "stdout",
     "output_type": "stream",
     "text": [
      "0.35667494393873245\n"
     ]
    }
   ],
   "source": [
    "import numpy as np\n",
    "true_vals= [1,0,0]\n",
    "predicted_prob=[0.7,0.2,0.1]\n",
    "\n",
    "cross_Entropy=-np.sum(true_vals[0]*np.log(predicted_prob[0]))\n",
    "\n",
    "print(cross_Entropy)"
   ]
  },
  {
   "cell_type": "markdown",
   "metadata": {},
   "source": [
    "Challenge: find the the loss of the softmax output\n"
   ]
  },
  {
   "cell_type": "code",
   "execution_count": 12,
   "metadata": {},
   "outputs": [
    {
     "name": "stdout",
     "output_type": "stream",
     "text": [
      "0.35667494393873245\n"
     ]
    }
   ],
   "source": [
    "softmax_outpt= [[0.7,0.1,0.2],\n",
    "                [0.1,0.5,0.4],\n",
    "                [0.02,0.9,0.08]\n",
    "                ]\n",
    "\n",
    "fst_batch= -np.sum(1*np.log(softmax_outpt[0][0]))\n",
    "\n",
    "print(fst_batch)"
   ]
  },
  {
   "cell_type": "code",
   "execution_count": 32,
   "metadata": {},
   "outputs": [
    {
     "name": "stdout",
     "output_type": "stream",
     "text": [
      "0.38506088005216804\n"
     ]
    }
   ],
   "source": [
    "softmax_opt=np.array([[0.7,0.1,0.2],\n",
    "                [0.1,0.5,0.4],\n",
    "                [0.02,0.9,0.08]\n",
    "                ])\n",
    "target= [0,1,1]\n",
    "\n",
    "# print(softmax_opt[[0,1,2],target])\n",
    "\n",
    "neg_log=-np.log(softmax_opt[range(len(softmax_opt)), target])\n",
    "\n",
    "average_mean= np.mean(neg_log)\n",
    "print(average_mean)"
   ]
  },
  {
   "cell_type": "markdown",
   "metadata": {},
   "source": [
    "Who to calaculate loss for the one hot encoded labels\n",
    "IN python if we use numpy to multiple it does is matrix multiplication\n",
    "And if we use this * we do the element wise multiplicatiom"
   ]
  },
  {
   "cell_type": "code",
   "execution_count": 13,
   "metadata": {},
   "outputs": [
    {
     "data": {
      "text/plain": [
       "np.float64(0.38506088005216804)"
      ]
     },
     "execution_count": 13,
     "metadata": {},
     "output_type": "execute_result"
    }
   ],
   "source": [
    "import numpy as np\n",
    "y_true_Check=np.array([\n",
    "    [1,0,0],\n",
    "    [0,1,0],\n",
    "    [0,1,0] \n",
    "])\n",
    "y_pred_clipped_Check= np.array([\n",
    "    [0.7,0.2,0.1],\n",
    "    [0.1,0.5,0.4],\n",
    "    [0.01,0.9,0.08]\n",
    "])\n",
    "\n",
    "sum_vals=np.sum(y_true_Check*y_pred_clipped_Check, axis=1, keepdims=True)\n",
    "\n",
    "\n",
    "\n",
    "np.mean(-np.log(sum_vals))\n",
    "\n",
    "\n"
   ]
  },
  {
   "cell_type": "code",
   "execution_count": 18,
   "metadata": {},
   "outputs": [
    {
     "data": {
      "text/plain": [
       "np.float64(0.3850609290997889)"
      ]
     },
     "execution_count": 18,
     "metadata": {},
     "output_type": "execute_result"
    }
   ],
   "source": [
    "def Loss_CategoricalCrossEntropy(y_pred, y_true):\n",
    "\n",
    "    #first we clip as we do not want to have probelm when calculating grdaient after loss neither any value should be 0 or 1\n",
    "    y_pred_clipped= np.clip(y_pred, 1e-7, 1- 1e-7)\n",
    "\n",
    "    if len(y_true.shape)==1:\n",
    "        correct_confidences= y_pred_clipped[range(len(y_pred)), y_true]\n",
    "        \n",
    "    elif len(y_true.shape)==2:\n",
    "        \n",
    "        correct_confidences=np.sum(y_pred_clipped*y_true, axis=1)\n",
    "\n",
    "    \n",
    "    negative_likelihood= -np.log(correct_confidences) \n",
    "    negative_likelihood_mean=np.mean(negative_likelihood)\n",
    "    return negative_likelihood_mean\n",
    "        \n",
    "    \n",
    "\n",
    "\n",
    "Loss_CategoricalCrossEntropy(y_true_Check,y_pred_clipped_Check )\n",
    "\n"
   ]
  }
 ],
 "metadata": {
  "kernelspec": {
   "display_name": "venv",
   "language": "python",
   "name": "python3"
  },
  "language_info": {
   "codemirror_mode": {
    "name": "ipython",
    "version": 3
   },
   "file_extension": ".py",
   "mimetype": "text/x-python",
   "name": "python",
   "nbconvert_exporter": "python",
   "pygments_lexer": "ipython3",
   "version": "3.9.13"
  }
 },
 "nbformat": 4,
 "nbformat_minor": 2
}
